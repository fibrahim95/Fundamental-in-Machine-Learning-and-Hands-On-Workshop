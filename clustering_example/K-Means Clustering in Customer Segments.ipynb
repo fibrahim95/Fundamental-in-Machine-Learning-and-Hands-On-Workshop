version https://git-lfs.github.com/spec/v1
oid sha256:53ec2a66b46a26bdf3e57f0a7082717f0a56aeca7283f763ef95cb09bc7b4a1e
size 182630
